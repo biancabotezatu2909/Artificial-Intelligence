{
  "cells": [
    {
      "cell_type": "markdown",
      "source": [
        "# A.I. Assignment 2"
      ],
      "metadata": {},
      "id": "latin-fiber"
    },
    {
      "cell_type": "markdown",
      "source": [
        "## Learning Goals\n",
        "\n",
        "By the end of this lab, you should be able to:\n",
        "* Perform some data preproscessing like: data scaling, normalisatin, encoding categorical features\n",
        "* Feel comfortable with simple linear regression\n",
        "* Feel comfortable with a regularization in ML\n",
        "\n",
        "\n",
        "### Content:\n",
        "\n",
        "The Lab. has 3 sections: \n",
        "\n",
        "1. Preprocessing\n",
        "2. Simple Linear regression\n",
        "3. Regularization\n",
        "\n",
        "At the end of each section there is an exercise, each worthing 3 points. All the work must be done during the lab and uploaded on teams by the end of the lab. \n",
        "\n",
        "\n",
        "If there are any python libraries missing, please install them on your working environment. "
      ],
      "metadata": {},
      "id": "agreed-ferry"
    },
    {
      "cell_type": "code",
      "source": [
        "import numpy as np\n",
        "import scipy as sp\n",
        "import matplotlib as mpl\n",
        "import matplotlib.cm as cm\n",
        "import matplotlib.pyplot as plt\n",
        "import pandas as pd"
      ],
      "outputs": [],
      "execution_count": 1,
      "metadata": {},
      "id": "independent-bench"
    },
    {
      "cell_type": "markdown",
      "source": [
        "# Section 1. Preprocessing data\n",
        "\n",
        "### Standardization, or mean removal and variance scaling\n",
        "\n",
        "Standardization of datasets is a common requirement for many machine learning estimators; they might behave badly if the individual features do not more or less look like standard normally distributed data: Gaussian with zero mean and unit variance.\n",
        "\n",
        "\n",
        "In practice we often ignore the shape of the distribution and just transform the data to center it by removing the mean value of each feature, then scale it by dividing non-constant features by their standard deviation.\n",
        "\n",
        "\n",
        "For instance, many elements used in the objective function of a learning algorithm may assume that all features are centered around zero or have variance in the same order. If a feature has a variance that is orders of magnitude larger than others, it might dominate the objective function and make the estimator unable to learn from other features correctly as expected.\n",
        "\n",
        "The preprocessing module provides the StandardScaler utility class, which is a quick and easy way to perform the following operation on an array-like dataset:"
      ],
      "metadata": {},
      "id": "brown-auditor"
    },
    {
      "cell_type": "code",
      "source": [
        "from sklearn import preprocessing"
      ],
      "outputs": [],
      "execution_count": 2,
      "metadata": {},
      "id": "fabulous-washer"
    },
    {
      "cell_type": "code",
      "source": [
        "X_train = np.array([[ 1., -1.,  2.],\n",
        "...                 [ 2.,  0.,  0.],\n",
        "...                 [ 0.,  1., -1.]])\n",
        "\n",
        "scaler = preprocessing.StandardScaler().fit(X_train)\n",
        "scaler"
      ],
      "outputs": [
        {
          "output_type": "execute_result",
          "execution_count": 9,
          "data": {
            "text/html": "<style>#sk-container-id-3 {color: black;}#sk-container-id-3 pre{padding: 0;}#sk-container-id-3 div.sk-toggleable {background-color: white;}#sk-container-id-3 label.sk-toggleable__label {cursor: pointer;display: block;width: 100%;margin-bottom: 0;padding: 0.3em;box-sizing: border-box;text-align: center;}#sk-container-id-3 label.sk-toggleable__label-arrow:before {content: \"▸\";float: left;margin-right: 0.25em;color: #696969;}#sk-container-id-3 label.sk-toggleable__label-arrow:hover:before {color: black;}#sk-container-id-3 div.sk-estimator:hover label.sk-toggleable__label-arrow:before {color: black;}#sk-container-id-3 div.sk-toggleable__content {max-height: 0;max-width: 0;overflow: hidden;text-align: left;background-color: #f0f8ff;}#sk-container-id-3 div.sk-toggleable__content pre {margin: 0.2em;color: black;border-radius: 0.25em;background-color: #f0f8ff;}#sk-container-id-3 input.sk-toggleable__control:checked~div.sk-toggleable__content {max-height: 200px;max-width: 100%;overflow: auto;}#sk-container-id-3 input.sk-toggleable__control:checked~label.sk-toggleable__label-arrow:before {content: \"▾\";}#sk-container-id-3 div.sk-estimator input.sk-toggleable__control:checked~label.sk-toggleable__label {background-color: #d4ebff;}#sk-container-id-3 div.sk-label input.sk-toggleable__control:checked~label.sk-toggleable__label {background-color: #d4ebff;}#sk-container-id-3 input.sk-hidden--visually {border: 0;clip: rect(1px 1px 1px 1px);clip: rect(1px, 1px, 1px, 1px);height: 1px;margin: -1px;overflow: hidden;padding: 0;position: absolute;width: 1px;}#sk-container-id-3 div.sk-estimator {font-family: monospace;background-color: #f0f8ff;border: 1px dotted black;border-radius: 0.25em;box-sizing: border-box;margin-bottom: 0.5em;}#sk-container-id-3 div.sk-estimator:hover {background-color: #d4ebff;}#sk-container-id-3 div.sk-parallel-item::after {content: \"\";width: 100%;border-bottom: 1px solid gray;flex-grow: 1;}#sk-container-id-3 div.sk-label:hover label.sk-toggleable__label {background-color: #d4ebff;}#sk-container-id-3 div.sk-serial::before {content: \"\";position: absolute;border-left: 1px solid gray;box-sizing: border-box;top: 0;bottom: 0;left: 50%;z-index: 0;}#sk-container-id-3 div.sk-serial {display: flex;flex-direction: column;align-items: center;background-color: white;padding-right: 0.2em;padding-left: 0.2em;position: relative;}#sk-container-id-3 div.sk-item {position: relative;z-index: 1;}#sk-container-id-3 div.sk-parallel {display: flex;align-items: stretch;justify-content: center;background-color: white;position: relative;}#sk-container-id-3 div.sk-item::before, #sk-container-id-3 div.sk-parallel-item::before {content: \"\";position: absolute;border-left: 1px solid gray;box-sizing: border-box;top: 0;bottom: 0;left: 50%;z-index: -1;}#sk-container-id-3 div.sk-parallel-item {display: flex;flex-direction: column;z-index: 1;position: relative;background-color: white;}#sk-container-id-3 div.sk-parallel-item:first-child::after {align-self: flex-end;width: 50%;}#sk-container-id-3 div.sk-parallel-item:last-child::after {align-self: flex-start;width: 50%;}#sk-container-id-3 div.sk-parallel-item:only-child::after {width: 0;}#sk-container-id-3 div.sk-dashed-wrapped {border: 1px dashed gray;margin: 0 0.4em 0.5em 0.4em;box-sizing: border-box;padding-bottom: 0.4em;background-color: white;}#sk-container-id-3 div.sk-label label {font-family: monospace;font-weight: bold;display: inline-block;line-height: 1.2em;}#sk-container-id-3 div.sk-label-container {text-align: center;}#sk-container-id-3 div.sk-container {/* jupyter's `normalize.less` sets `[hidden] { display: none; }` but bootstrap.min.css set `[hidden] { display: none !important; }` so we also need the `!important` here to be able to override the default hidden behavior on the sphinx rendered scikit-learn.org. See: https://github.com/scikit-learn/scikit-learn/issues/21755 */display: inline-block !important;position: relative;}#sk-container-id-3 div.sk-text-repr-fallback {display: none;}</style><div id=\"sk-container-id-3\" class=\"sk-top-container\"><div class=\"sk-text-repr-fallback\"><pre>StandardScaler()</pre><b>In a Jupyter environment, please rerun this cell to show the HTML representation or trust the notebook. <br />On GitHub, the HTML representation is unable to render, please try loading this page with nbviewer.org.</b></div><div class=\"sk-container\" hidden><div class=\"sk-item\"><div class=\"sk-estimator sk-toggleable\"><input class=\"sk-toggleable__control sk-hidden--visually\" id=\"sk-estimator-id-3\" type=\"checkbox\" checked><label for=\"sk-estimator-id-3\" class=\"sk-toggleable__label sk-toggleable__label-arrow\">StandardScaler</label><div class=\"sk-toggleable__content\"><pre>StandardScaler()</pre></div></div></div></div></div>",
            "text/plain": "StandardScaler()"
          },
          "metadata": {}
        }
      ],
      "execution_count": 9,
      "metadata": {},
      "id": "cathedral-china"
    },
    {
      "cell_type": "code",
      "source": [
        "scaler.mean_"
      ],
      "outputs": [
        {
          "output_type": "execute_result",
          "execution_count": 10,
          "data": {
            "text/plain": "array([1.        , 0.        , 0.33333333])"
          },
          "metadata": {}
        }
      ],
      "execution_count": 10,
      "metadata": {},
      "id": "incredible-tokyo"
    },
    {
      "cell_type": "code",
      "source": [
        "scaler.scale_"
      ],
      "outputs": [
        {
          "output_type": "execute_result",
          "execution_count": 11,
          "data": {
            "text/plain": "array([0.81649658, 0.81649658, 1.24721913])"
          },
          "metadata": {}
        }
      ],
      "execution_count": 11,
      "metadata": {},
      "id": "heavy-stereo"
    },
    {
      "cell_type": "code",
      "source": [
        "X_scaled = scaler.transform(X_train)\n",
        "X_scaled"
      ],
      "outputs": [
        {
          "output_type": "execute_result",
          "execution_count": 12,
          "data": {
            "text/plain": "array([[ 0.        , -1.22474487,  1.33630621],\n       [ 1.22474487,  0.        , -0.26726124],\n       [-1.22474487,  1.22474487, -1.06904497]])"
          },
          "metadata": {}
        }
      ],
      "execution_count": 12,
      "metadata": {},
      "id": "sized-royal"
    },
    {
      "cell_type": "markdown",
      "source": [
        "Scaled data has zero mean and unit variance:"
      ],
      "metadata": {},
      "id": "adverse-compact"
    },
    {
      "cell_type": "code",
      "source": [
        "print(\"mean:\", X_scaled.mean(axis=0),\", std:\",  X_scaled.std(axis=0))"
      ],
      "outputs": [
        {
          "output_type": "stream",
          "name": "stdout",
          "text": "mean: [0. 0. 0.] , std: [1. 1. 1.]\n"
        }
      ],
      "execution_count": 13,
      "metadata": {},
      "id": "african-citizen"
    },
    {
      "cell_type": "markdown",
      "source": [
        "It is possible to disable either centering or scaling by either passing $with\\_mean=False$ or $with\\_std=False$ to the constructor of StandardScaler."
      ],
      "metadata": {},
      "id": "understood-genealogy"
    },
    {
      "cell_type": "markdown",
      "source": [
        "### Scaling features to a range\n",
        "\n",
        "An alternative standardization is scaling features to lie between a given minimum and maximum value, often between zero and one, or so that the maximum absolute value of each feature is scaled to unit size. This can be achieved using *MinMaxScaler* or *MaxAbsScaler*, respectively.\n",
        "\n",
        "Here is an example to scale a simle data matrix to the $[0, 1]$ range:"
      ],
      "metadata": {},
      "id": "based-lightweight"
    },
    {
      "cell_type": "code",
      "source": [
        "X_train = np.array([[ 1., -1.,  2.],\n",
        "...                     [ 2.,  0.,  0.],\n",
        "...                     [ 0.,  1., -1.]])\n",
        "\n",
        "min_max_scaler = preprocessing.MinMaxScaler()\n",
        "X_train_minmax = min_max_scaler.fit_transform(X_train)\n",
        "X_train_minmax"
      ],
      "outputs": [
        {
          "output_type": "execute_result",
          "execution_count": 23,
          "data": {
            "text/plain": "array([[0.5       , 0.        , 1.        ],\n       [1.        , 0.5       , 0.33333333],\n       [0.        , 1.        , 0.        ]])"
          },
          "metadata": {}
        }
      ],
      "execution_count": 23,
      "metadata": {},
      "id": "cooperative-confusion"
    },
    {
      "cell_type": "markdown",
      "source": [
        "The same instance of the transformer can then be applied to some new test data unseen during the fit call: the same scaling and shifting operations will be applied to be consistent with the transformation performed on the train data:"
      ],
      "metadata": {},
      "id": "metropolitan-deviation"
    },
    {
      "cell_type": "code",
      "source": [
        "X_test = np.array([[-3., -1.,  4.]])\n",
        "X_test_minmax = min_max_scaler.transform(X_test)\n",
        "X_test_minmax"
      ],
      "outputs": [
        {
          "output_type": "execute_result",
          "execution_count": 20,
          "data": {
            "text/plain": "array([[-1.5       ,  0.        ,  1.66666667]])"
          },
          "metadata": {}
        }
      ],
      "execution_count": 20,
      "metadata": {},
      "id": "imposed-brother"
    },
    {
      "cell_type": "markdown",
      "source": [
        "It is possible to inspect the scaler attributes to find about the exact nature of the transformation learned on the training data:"
      ],
      "metadata": {},
      "id": "amino-package"
    },
    {
      "cell_type": "code",
      "source": [
        "min_max_scaler.scale_"
      ],
      "outputs": [
        {
          "output_type": "execute_result",
          "execution_count": 21,
          "data": {
            "text/plain": "array([0.5       , 0.5       , 0.33333333])"
          },
          "metadata": {}
        }
      ],
      "execution_count": 21,
      "metadata": {},
      "id": "embedded-entrepreneur"
    },
    {
      "cell_type": "code",
      "source": [
        " min_max_scaler.min_"
      ],
      "outputs": [
        {
          "output_type": "execute_result",
          "execution_count": 158,
          "data": {
            "text/plain": "array([0.        , 0.5       , 0.33333333])"
          },
          "metadata": {}
        }
      ],
      "execution_count": 158,
      "metadata": {},
      "id": "backed-companion"
    },
    {
      "cell_type": "markdown",
      "source": [
        "If *MinMaxScaler* is given an explicit $feature\\_range=(min, max)$ the full formula is:\n",
        "\n",
        "$$ X_{std} = \\frac{(X - X.min)}{ (X.max - X.min)} $$\n",
        "\n",
        "$$ X_{scaled} = X_{std} * (max - min) + min$$\n",
        "\n",
        "*MaxAbsScaler* works in a very similar fashion, but scales in a way that the training data lies within the range $[-1, 1]$ by dividing through the largest maximum value in each feature. It is meant for data that is already centered at zero or sparse data.\n",
        "\n",
        "Here is how to use the data from the previous example with this scaler:"
      ],
      "metadata": {},
      "id": "rubber-shepherd"
    },
    {
      "cell_type": "code",
      "source": [
        "X_train = np.array([[ 1., -1.,  2.],\n",
        "...                     [ 2.,  0.,  0.],\n",
        "...                     [ 0.,  1., -1.]])\n",
        "\n",
        "max_abs_scaler = preprocessing.MaxAbsScaler()\n",
        "X_train_maxabs = max_abs_scaler.fit_transform(X_train)\n",
        "X_train_maxabs"
      ],
      "outputs": [
        {
          "output_type": "execute_result",
          "execution_count": 24,
          "data": {
            "text/plain": "array([[ 0.5, -1. ,  1. ],\n       [ 1. ,  0. ,  0. ],\n       [ 0. ,  1. , -0.5]])"
          },
          "metadata": {}
        }
      ],
      "execution_count": 24,
      "metadata": {},
      "id": "acknowledged-couple"
    },
    {
      "cell_type": "code",
      "source": [
        "X_test = np.array([[ -3., -1.,  4.]])\n",
        "X_test_maxabs = max_abs_scaler.transform(X_test)\n",
        "X_test_maxabs"
      ],
      "outputs": [
        {
          "output_type": "execute_result",
          "execution_count": 25,
          "data": {
            "text/plain": "array([[-1.5, -1. ,  2. ]])"
          },
          "metadata": {}
        }
      ],
      "execution_count": 25,
      "metadata": {},
      "id": "spiritual-being"
    },
    {
      "cell_type": "code",
      "source": [
        "max_abs_scaler.scale_"
      ],
      "outputs": [
        {
          "output_type": "execute_result",
          "execution_count": 26,
          "data": {
            "text/plain": "array([2., 1., 2.])"
          },
          "metadata": {}
        }
      ],
      "execution_count": 26,
      "metadata": {},
      "id": "progressive-miller"
    },
    {
      "cell_type": "markdown",
      "source": [
        "## Normalization\n",
        "\n",
        "Normalization is the process of scaling individual samples to have unit norm. This process can be useful if you plan to use a quadratic form such as the dot-product or any other kernel to quantify the similarity of any pair of samples.\n",
        "\n",
        "This assumption is the base of the Vector Space Model often used in text classification and clustering contexts.\n",
        "\n",
        "The function normalize provides a quick and easy way to perform this operation on a single array-like dataset, either using the $l1$, $l2$, or $max$ norms:"
      ],
      "metadata": {},
      "id": "bacterial-nomination"
    },
    {
      "cell_type": "code",
      "source": [
        "X = [[ 1., -1.,  2.],\n",
        "...  [ 2.,  0.,  0.],\n",
        "...  [ 0.,  1., -1.]]\n",
        "\n",
        "X_normalized = preprocessing.normalize(X, norm='max')\n",
        "\n",
        "X_normalized"
      ],
      "outputs": [
        {
          "output_type": "execute_result",
          "execution_count": 32,
          "data": {
            "text/plain": "array([[ 0.5, -0.5,  1. ],\n       [ 1. ,  0. ,  0. ],\n       [ 0. ,  1. , -1. ]])"
          },
          "metadata": {}
        }
      ],
      "execution_count": 32,
      "metadata": {},
      "id": "obvious-buyer"
    },
    {
      "cell_type": "markdown",
      "source": [
        "## Encoding categorical features\n",
        "Often features are not given as continuous values but categorical. For example a person could have features [\"male\", \"female\"], [\"from Europe\", \"from US\", \"from Asia\"], [\"uses Firefox\", \"uses Chrome\", \"uses Safari\", \"uses Internet Explorer\"]. Such features can be efficiently coded as integers, for instance [\"male\", \"from US\", \"uses Internet Explorer\"] could be expressed as $[0, 1, 3]$ while [\"female\", \"from Asia\", \"uses Chrome\"] would be $[1, 2, 1]$.\n",
        "\n",
        "To convert categorical features to such integer codes, we can use the OrdinalEncoder. This estimator transforms each categorical feature to one new feature of integers ($0$ to $n_{categories} - 1$):"
      ],
      "metadata": {},
      "id": "received-promise"
    },
    {
      "cell_type": "code",
      "source": [
        "enc = preprocessing.OrdinalEncoder()\n",
        "X = [['male', 'from US', 'uses Safari'], ['female', 'from Europe', 'uses Firefox']]\n",
        "enc.fit(X)"
      ],
      "outputs": [
        {
          "output_type": "execute_result",
          "execution_count": 33,
          "data": {
            "text/html": "<style>#sk-container-id-5 {color: black;}#sk-container-id-5 pre{padding: 0;}#sk-container-id-5 div.sk-toggleable {background-color: white;}#sk-container-id-5 label.sk-toggleable__label {cursor: pointer;display: block;width: 100%;margin-bottom: 0;padding: 0.3em;box-sizing: border-box;text-align: center;}#sk-container-id-5 label.sk-toggleable__label-arrow:before {content: \"▸\";float: left;margin-right: 0.25em;color: #696969;}#sk-container-id-5 label.sk-toggleable__label-arrow:hover:before {color: black;}#sk-container-id-5 div.sk-estimator:hover label.sk-toggleable__label-arrow:before {color: black;}#sk-container-id-5 div.sk-toggleable__content {max-height: 0;max-width: 0;overflow: hidden;text-align: left;background-color: #f0f8ff;}#sk-container-id-5 div.sk-toggleable__content pre {margin: 0.2em;color: black;border-radius: 0.25em;background-color: #f0f8ff;}#sk-container-id-5 input.sk-toggleable__control:checked~div.sk-toggleable__content {max-height: 200px;max-width: 100%;overflow: auto;}#sk-container-id-5 input.sk-toggleable__control:checked~label.sk-toggleable__label-arrow:before {content: \"▾\";}#sk-container-id-5 div.sk-estimator input.sk-toggleable__control:checked~label.sk-toggleable__label {background-color: #d4ebff;}#sk-container-id-5 div.sk-label input.sk-toggleable__control:checked~label.sk-toggleable__label {background-color: #d4ebff;}#sk-container-id-5 input.sk-hidden--visually {border: 0;clip: rect(1px 1px 1px 1px);clip: rect(1px, 1px, 1px, 1px);height: 1px;margin: -1px;overflow: hidden;padding: 0;position: absolute;width: 1px;}#sk-container-id-5 div.sk-estimator {font-family: monospace;background-color: #f0f8ff;border: 1px dotted black;border-radius: 0.25em;box-sizing: border-box;margin-bottom: 0.5em;}#sk-container-id-5 div.sk-estimator:hover {background-color: #d4ebff;}#sk-container-id-5 div.sk-parallel-item::after {content: \"\";width: 100%;border-bottom: 1px solid gray;flex-grow: 1;}#sk-container-id-5 div.sk-label:hover label.sk-toggleable__label {background-color: #d4ebff;}#sk-container-id-5 div.sk-serial::before {content: \"\";position: absolute;border-left: 1px solid gray;box-sizing: border-box;top: 0;bottom: 0;left: 50%;z-index: 0;}#sk-container-id-5 div.sk-serial {display: flex;flex-direction: column;align-items: center;background-color: white;padding-right: 0.2em;padding-left: 0.2em;position: relative;}#sk-container-id-5 div.sk-item {position: relative;z-index: 1;}#sk-container-id-5 div.sk-parallel {display: flex;align-items: stretch;justify-content: center;background-color: white;position: relative;}#sk-container-id-5 div.sk-item::before, #sk-container-id-5 div.sk-parallel-item::before {content: \"\";position: absolute;border-left: 1px solid gray;box-sizing: border-box;top: 0;bottom: 0;left: 50%;z-index: -1;}#sk-container-id-5 div.sk-parallel-item {display: flex;flex-direction: column;z-index: 1;position: relative;background-color: white;}#sk-container-id-5 div.sk-parallel-item:first-child::after {align-self: flex-end;width: 50%;}#sk-container-id-5 div.sk-parallel-item:last-child::after {align-self: flex-start;width: 50%;}#sk-container-id-5 div.sk-parallel-item:only-child::after {width: 0;}#sk-container-id-5 div.sk-dashed-wrapped {border: 1px dashed gray;margin: 0 0.4em 0.5em 0.4em;box-sizing: border-box;padding-bottom: 0.4em;background-color: white;}#sk-container-id-5 div.sk-label label {font-family: monospace;font-weight: bold;display: inline-block;line-height: 1.2em;}#sk-container-id-5 div.sk-label-container {text-align: center;}#sk-container-id-5 div.sk-container {/* jupyter's `normalize.less` sets `[hidden] { display: none; }` but bootstrap.min.css set `[hidden] { display: none !important; }` so we also need the `!important` here to be able to override the default hidden behavior on the sphinx rendered scikit-learn.org. See: https://github.com/scikit-learn/scikit-learn/issues/21755 */display: inline-block !important;position: relative;}#sk-container-id-5 div.sk-text-repr-fallback {display: none;}</style><div id=\"sk-container-id-5\" class=\"sk-top-container\"><div class=\"sk-text-repr-fallback\"><pre>OrdinalEncoder()</pre><b>In a Jupyter environment, please rerun this cell to show the HTML representation or trust the notebook. <br />On GitHub, the HTML representation is unable to render, please try loading this page with nbviewer.org.</b></div><div class=\"sk-container\" hidden><div class=\"sk-item\"><div class=\"sk-estimator sk-toggleable\"><input class=\"sk-toggleable__control sk-hidden--visually\" id=\"sk-estimator-id-5\" type=\"checkbox\" checked><label for=\"sk-estimator-id-5\" class=\"sk-toggleable__label sk-toggleable__label-arrow\">OrdinalEncoder</label><div class=\"sk-toggleable__content\"><pre>OrdinalEncoder()</pre></div></div></div></div></div>",
            "text/plain": "OrdinalEncoder()"
          },
          "metadata": {}
        }
      ],
      "execution_count": 33,
      "metadata": {},
      "id": "closing-miami"
    },
    {
      "cell_type": "code",
      "source": [
        "enc.transform([['female', 'from US', 'uses Safari']])"
      ],
      "outputs": [
        {
          "output_type": "execute_result",
          "execution_count": 34,
          "data": {
            "text/plain": "array([[0., 1., 1.]])"
          },
          "metadata": {}
        }
      ],
      "execution_count": 34,
      "metadata": {},
      "id": "standard-crossing"
    },
    {
      "cell_type": "markdown",
      "source": [
        "Such integer representation can, however, not be used directly with all scikit-learn estimators, as these expect continuous input, and would interpret the categories as being ordered, which is often not desired (i.e. the set of browsers was ordered arbitrarily).\n",
        "\n",
        "By default, *OrdinalEncoder* will also passthrough missing values that are indicated by *np.nan*."
      ],
      "metadata": {},
      "id": "threaded-editing"
    },
    {
      "cell_type": "code",
      "source": [
        "enc = preprocessing.OrdinalEncoder()\n",
        "X = [['male'], ['female'], [np.nan], ['female']]\n",
        "enc.fit_transform(X)"
      ],
      "outputs": [
        {
          "output_type": "execute_result",
          "execution_count": 35,
          "data": {
            "text/plain": "array([[ 1.],\n       [ 0.],\n       [nan],\n       [ 0.]])"
          },
          "metadata": {}
        }
      ],
      "execution_count": 35,
      "metadata": {},
      "id": "balanced-attention"
    },
    {
      "cell_type": "markdown",
      "source": [
        "OrdinalEncoder provides a parameter encoded_missing_value to encode the missing values without the need to create a pipeline and using SimpleImputer."
      ],
      "metadata": {},
      "id": "excellent-glance"
    },
    {
      "cell_type": "code",
      "source": [
        "enc = preprocessing.OrdinalEncoder(encoded_missing_value=-4)\n",
        "X = [['male'], ['female'], [np.nan], ['female']]\n",
        "enc.fit_transform(X)"
      ],
      "outputs": [
        {
          "output_type": "execute_result",
          "execution_count": 39,
          "data": {
            "text/plain": "array([[ 1.],\n       [ 0.],\n       [-4.],\n       [ 0.]])"
          },
          "metadata": {}
        }
      ],
      "execution_count": 39,
      "metadata": {},
      "id": "pleased-flour"
    },
    {
      "cell_type": "markdown",
      "source": [
        "***Exercise 1***\n",
        "\n",
        "Load the dataset *WA_Fn-UseC_-Telco-Customer-Churn.csv* provided. Perform transformations on it so it is prepared to build a model (scaling the numerical data and the cathegorical features transformed in numerical integer labels.  "
      ],
      "metadata": {},
      "id": "awful-hurricane"
    },
    {
      "cell_type": "code",
      "source": [
        "df = pd.read_csv('WA_Fn-UseC_-Telco-Customer-Churn.csv')\n",
        "print(df.head())\n",
        "\n",
        "\n",
        "# Convert categorical features to numerical labels  (LabelEncoder)\n",
        "label_encoders = {}\n",
        "for column in df.select_dtypes(include=['object']).columns:\n",
        "    le = LabelEncoder()\n",
        "    df[column] = le.fit_transform(df[column])\n",
        "    label_encoders[column] = le\n",
        "\n",
        "# Scale numerical features(StandardScaler)\n",
        "scaler = StandardScaler()\n",
        "numerical_columns = df.select_dtypes(include=['int', 'float']).columns\n",
        "df[numerical_columns] = scaler.fit_transform(df[numerical_columns])\n",
        "print(\"\\n\\n\\n\\n\")\n",
        "\n",
        "# Print the transformed dataset\n",
        "print(df.head())\n",
        "\n"
      ],
      "outputs": [
        {
          "output_type": "stream",
          "name": "stdout",
          "text": "   customerID  gender  SeniorCitizen Partner Dependents  tenure PhoneService  \\\n0  7590-VHVEG  Female              0     Yes         No       1           No   \n1  5575-GNVDE    Male              0      No         No      34          Yes   \n2  3668-QPYBK    Male              0      No         No       2          Yes   \n3  7795-CFOCW    Male              0      No         No      45           No   \n4  9237-HQITU  Female              0      No         No       2          Yes   \n\n      MultipleLines InternetService OnlineSecurity  ... DeviceProtection  \\\n0  No phone service             DSL             No  ...               No   \n1                No             DSL            Yes  ...              Yes   \n2                No             DSL            Yes  ...               No   \n3  No phone service             DSL            Yes  ...              Yes   \n4                No     Fiber optic             No  ...               No   \n\n  TechSupport StreamingTV StreamingMovies        Contract PaperlessBilling  \\\n0          No          No              No  Month-to-month              Yes   \n1          No          No              No        One year               No   \n2          No          No              No  Month-to-month              Yes   \n3         Yes          No              No        One year               No   \n4          No          No              No  Month-to-month              Yes   \n\n               PaymentMethod MonthlyCharges  TotalCharges Churn  \n0           Electronic check          29.85         29.85    No  \n1               Mailed check          56.95        1889.5    No  \n2               Mailed check          53.85        108.15   Yes  \n3  Bank transfer (automatic)          42.30       1840.75    No  \n4           Electronic check          70.70        151.65   Yes  \n\n[5 rows x 21 columns]\n\n\n\n\n\n   customerID    gender  SeniorCitizen   Partner  Dependents    tenure  \\\n0    0.911890 -1.009559      -0.439916  1.034530   -0.654012 -1.277445   \n1    0.216906  0.990532      -0.439916 -0.966622   -0.654012  0.066327   \n2   -0.470701  0.990532      -0.439916 -0.966622   -0.654012 -1.236724   \n3    0.990587  0.990532      -0.439916 -0.966622   -0.654012  0.514251   \n4    1.470632 -1.009559      -0.439916 -0.966622   -0.654012 -1.236724   \n\n   PhoneService  MultipleLines  InternetService  OnlineSecurity  ...  \\\n0     -3.054010       0.062723        -1.183234       -0.918838  ...   \n1      0.327438      -0.991588        -1.183234        1.407321  ...   \n2      0.327438      -0.991588        -1.183234        1.407321  ...   \n3     -3.054010       0.062723        -1.183234        1.407321  ...   \n4      0.327438      -0.991588         0.172250       -0.918838  ...   \n\n   DeviceProtection  TechSupport  StreamingTV  StreamingMovies  Contract  \\\n0         -1.027910    -0.925262    -1.113495        -1.121405 -0.828207   \n1          1.245111    -0.925262    -1.113495        -1.121405  0.371271   \n2         -1.027910    -0.925262    -1.113495        -1.121405 -0.828207   \n3          1.245111     1.396299    -1.113495        -1.121405  0.371271   \n4         -1.027910    -0.925262    -1.113495        -1.121405 -0.828207   \n\n   PaperlessBilling  PaymentMethod  MonthlyCharges  TotalCharges     Churn  \n0          0.829798       0.398558       -1.160323     -0.398608 -0.601023  \n1         -1.205113       1.334863       -0.259629     -0.948762 -0.601023  \n2          0.829798       1.334863       -0.362660     -1.641883  1.663829  \n3         -1.205113      -1.474052       -0.746535     -0.983710 -0.601023  \n4          0.829798       0.398558        0.197365     -1.235224  1.663829  \n\n[5 rows x 21 columns]\n"
        }
      ],
      "execution_count": 111,
      "metadata": {},
      "id": "inside-alaska"
    },
    {
      "cell_type": "markdown",
      "source": [
        "# Section 2. Simple linear regression"
      ],
      "metadata": {},
      "id": "convinced-prior"
    },
    {
      "cell_type": "markdown",
      "source": [
        "Linear regression is defined as an algorithm that provides a linear relationship between an independent variable and a dependent variable to predict the outcome of future events. \n",
        "\n",
        "Most of the major concepts in machine learning can be and often are discussed in terms of various linear regression models. Thus, this section will introduce you to building and fitting linear regression models and some of the process behind it, so that you can \n",
        "\n",
        "1. fit models to data you encounter \n",
        "\n",
        "1. experiment with different kinds of linear regression and observe their effects\n",
        "\n",
        "1. see some of the technology that makes regression models work."
      ],
      "metadata": {},
      "id": "pending-content"
    },
    {
      "cell_type": "markdown",
      "source": [
        "### Linear regression with a simple dataset\n",
        "\n",
        "Lets build first a very problem, focusing our efforts on fitting a linear model to a small dataset with three observations.  Each observation consists of one predictor $x_i$ and one response $y_i$ for $i \\in \\{ 1, 2, 3 \\}$,\n",
        "\n",
        "\\begin{align*}\n",
        "(x , y) = \\{(x_1, y_1), (x_2, y_2), (x_3, y_3)\\}.\n",
        "\\end{align*}\n",
        "\n",
        "To be very concrete, let's set the values of the predictors and responses.\n",
        "\n",
        "\\begin{equation*}\n",
        "(x , y) = \\{(1, 2), (2, 2), (3, 4)\\}\n",
        "\\end{equation*}\n",
        "\n",
        "There is no line of the form $a x + b = y$ that passes through all three observations, since the data are not collinear. Thus our aim is to find the line that best fits these observations in the *least-squares sense*."
      ],
      "metadata": {},
      "id": "southwest-shanghai"
    },
    {
      "cell_type": "code",
      "source": [
        "x_train = np.array([1,2,3])\n",
        "y_train = np.array([2,3,6])\n",
        "type(x_train)"
      ],
      "outputs": [
        {
          "output_type": "execute_result",
          "execution_count": 75,
          "data": {
            "text/plain": "numpy.ndarray"
          },
          "metadata": {}
        }
      ],
      "execution_count": 75,
      "metadata": {},
      "id": "charged-couple"
    },
    {
      "cell_type": "code",
      "source": [
        "x_train.shape"
      ],
      "outputs": [
        {
          "output_type": "execute_result",
          "execution_count": 76,
          "data": {
            "text/plain": "(3,)"
          },
          "metadata": {}
        }
      ],
      "execution_count": 76,
      "metadata": {},
      "id": "everyday-environment"
    },
    {
      "cell_type": "code",
      "source": [
        "x_train = x_train.reshape(3,1)\n",
        "x_train.shape"
      ],
      "outputs": [
        {
          "output_type": "execute_result",
          "execution_count": 77,
          "data": {
            "text/plain": "(3, 1)"
          },
          "metadata": {}
        }
      ],
      "execution_count": 77,
      "metadata": {},
      "id": "filled-european"
    },
    {
      "cell_type": "code",
      "source": [
        "# Make a simple scatterplot\n",
        "plt.scatter(x_train,y_train)\n",
        "\n",
        "# check dimensions \n",
        "print(x_train.shape,y_train.shape)"
      ],
      "outputs": [
        {
          "output_type": "stream",
          "name": "stdout",
          "text": "(3, 1) (3,)\n"
        },
        {
          "output_type": "display_data",
          "data": {
            "image/png": "[encoded data removed]",
            "text/plain": "<Figure size 640x480 with 1 Axes>"
          },
          "metadata": {}
        }
      ],
      "execution_count": 78,
      "metadata": {},
      "id": "diagnostic-portable"
    },
    {
      "cell_type": "code",
      "source": [
        "def nice_scatterplot(x, y, title):\n",
        "    # font size\n",
        "    f_size = 18\n",
        "    \n",
        "    # make the figure\n",
        "    fig, ax = plt.subplots(1,1, figsize=(8,5)) # Create figure object\n",
        "\n",
        "    # set axes limits to make the scale nice\n",
        "    ax.set_xlim(np.min(x)-1, np.max(x) + 1)\n",
        "    ax.set_ylim(np.min(y)-1, np.max(y) + 1)\n",
        "\n",
        "    # adjust size of tickmarks in axes\n",
        "    ax.tick_params(labelsize = f_size)\n",
        "    \n",
        "    # remove tick labels\n",
        "    ax.tick_params(labelbottom=False,  bottom=False)\n",
        "    \n",
        "    # adjust size of axis label\n",
        "    ax.set_xlabel(r'$x$', fontsize = f_size)\n",
        "    ax.set_ylabel(r'$y$', fontsize = f_size)\n",
        "    \n",
        "    # set figure title label\n",
        "    ax.set_title(title, fontsize = f_size)\n",
        "\n",
        "    # you may set up grid with this \n",
        "    ax.grid(True, lw=1.75, ls='--', alpha=0.15)\n",
        "\n",
        "    # make actual plot (Notice the label argument!)\n",
        "    #ax.scatter(x, y, label=r'$My points$')\n",
        "    #ax.scatter(x, y, label='$My points$')\n",
        "    ax.scatter(x, y, label=r'$my\\,points$')\n",
        "    ax.legend(loc='best', fontsize = f_size);\n",
        "    \n",
        "    return ax\n",
        "\n",
        "nice_scatterplot(x_train, y_train, 'A nice plot')\n"
      ],
      "outputs": [
        {
          "output_type": "execute_result",
          "execution_count": 79,
          "data": {
            "text/plain": "<Axes: title={'center': 'A nice plot'}, xlabel='$x$', ylabel='$y$'>"
          },
          "metadata": {}
        },
        {
          "output_type": "display_data",
          "data": {
            "image/png": "[encoded data removed]",
            "text/plain": "<Figure size 800x500 with 1 Axes>"
          },
          "metadata": {}
        }
      ],
      "execution_count": 79,
      "metadata": {},
      "id": "quiet-extraction"
    },
    {
      "cell_type": "markdown",
      "source": [
        "#### Formulae\n",
        "Linear regression is special among the models we study because it can be solved explicitly. While most other models (and even some advanced versions of linear regression) must be solved itteratively, linear regression has a formula where you can simply plug in the data.\n",
        "\n",
        "For the single predictor case it is:\n",
        "    \\begin{align}\n",
        "      a &= \\frac{\\sum_{i=1}^n{(x_i-\\bar{x})(y_i-\\bar{y})}}{\\sum_{i=1}^n{(x_i-\\bar{x})^2}}\\\\\n",
        "      b &= \\bar{y} - a \\bar{x}\\\n",
        "    \\end{align}\n",
        "    \n",
        "Where $\\bar{y}$ and $\\bar{x}$ are the mean of the y values and the mean of the x values, respectively."
      ],
      "metadata": {},
      "id": "checked-nickname"
    },
    {
      "cell_type": "markdown",
      "source": [
        "###  Building a model from scratch\n",
        "\n",
        "We will solve the equations for simple linear regression and find the best fit solution to our simple problem."
      ],
      "metadata": {},
      "id": "close-vegetation"
    },
    {
      "cell_type": "markdown",
      "source": [
        "The snippets of code below implement the linear regression equations on the observed predictors and responses, which we'll call the training data set.  Let's walk through the code.\n",
        "\n",
        "We have to reshape our arrrays to 2D. We will see later why."
      ],
      "metadata": {},
      "id": "athletic-disability"
    },
    {
      "cell_type": "code",
      "source": [
        "#solution\n",
        "xx = np.array([[1,2,3],[4,6,8]])\n",
        "xxx = xx.reshape(-1,2)\n",
        "xxx.shape"
      ],
      "outputs": [
        {
          "output_type": "execute_result",
          "execution_count": 80,
          "data": {
            "text/plain": "(3, 2)"
          },
          "metadata": {}
        }
      ],
      "execution_count": 80,
      "metadata": {},
      "id": "smart-reading"
    },
    {
      "cell_type": "code",
      "source": [
        "# Reshape to be a proper 2D array\n",
        "x_train = x_train.reshape(x_train.shape[0], 1)\n",
        "y_train = y_train.reshape(y_train.shape[0], 1)\n",
        "\n",
        "print(x_train.shape)"
      ],
      "outputs": [
        {
          "output_type": "stream",
          "name": "stdout",
          "text": "(3, 1)\n"
        }
      ],
      "execution_count": 81,
      "metadata": {},
      "id": "satellite-standard"
    },
    {
      "cell_type": "code",
      "source": [
        "# first, compute means\n",
        "y_bar = np.mean(y_train)\n",
        "x_bar = np.mean(x_train)\n",
        "\n",
        "# build the two terms\n",
        "numerator = np.sum( (x_train - x_bar)*(y_train - y_bar) )\n",
        "denominator = np.sum((x_train - x_bar)**2)\n",
        "\n",
        "print(numerator.shape, denominator.shape) #check shapes"
      ],
      "outputs": [
        {
          "output_type": "stream",
          "name": "stdout",
          "text": "() ()\n"
        }
      ],
      "execution_count": 82,
      "metadata": {},
      "id": "artificial-learning"
    },
    {
      "cell_type": "markdown",
      "source": [
        "* Why the empty brackets? (The numerator and denominator are scalars, as expected.)"
      ],
      "metadata": {},
      "id": "corresponding-overall"
    },
    {
      "cell_type": "code",
      "source": [
        "#slope beta1\n",
        "a = numerator/denominator\n",
        "\n",
        "#intercept beta0\n",
        "b = y_bar - a * x_bar\n",
        "\n",
        "print(\"The best-fit line is {0:3.2f} + {1:3.2f} * x\".format(b, a))\n",
        "print(f'The best fit is {b}')"
      ],
      "outputs": [
        {
          "output_type": "stream",
          "name": "stdout",
          "text": "The best-fit line is -0.33 + 2.00 * x\nThe best fit is -0.3333333333333335\n"
        }
      ],
      "execution_count": 83,
      "metadata": {},
      "id": "banner-america"
    },
    {
      "cell_type": "code",
      "source": [
        "def simple_linear_regression_fit(x_train: np.ndarray, y_train: np.ndarray) -> np.ndarray:\n",
        "    \"\"\"\n",
        "    Inputs:\n",
        "    x_train: a (num observations by 1) array holding the values of the predictor variable\n",
        "    y_train: a (num observations by 1) array holding the values of the response variable\n",
        "\n",
        "    Returns:\n",
        "    beta_vals:  a (num_features by 1) array holding the intercept and slope coeficients\n",
        "    \"\"\"\n",
        "    \n",
        "    # Check input array sizes\n",
        "    if len(x_train.shape) < 2:\n",
        "        print(\"Reshaping features array.\")\n",
        "        x_train = x_train.reshape(x_train.shape[0], 1)\n",
        "\n",
        "    if len(y_train.shape) < 2:\n",
        "        print(\"Reshaping observations array.\")\n",
        "        y_train = y_train.reshape(y_train.shape[0], 1)\n",
        "\n",
        "    # first, compute means\n",
        "    y_bar = np.mean(y_train)\n",
        "    x_bar = np.mean(x_train)\n",
        "\n",
        "    # build the two terms\n",
        "    numerator = np.sum( (x_train - x_bar)*(y_train - y_bar) )\n",
        "    denominator = np.sum((x_train - x_bar)**2)\n",
        "    \n",
        "    #slope a\n",
        "    a = numerator/denominator\n",
        "\n",
        "    #intercept b\n",
        "    b = y_bar - beta_1*x_bar\n",
        "\n",
        "    return np.array([b,a])"
      ],
      "outputs": [],
      "execution_count": 87,
      "metadata": {},
      "id": "every-humor"
    },
    {
      "cell_type": "markdown",
      "source": [
        "* Let's run this function and see the coefficients"
      ],
      "metadata": {},
      "id": "identified-ridge"
    },
    {
      "cell_type": "code",
      "source": [
        "x_train = np.array([1 ,2, 3])\n",
        "y_train = np.array([2, 2, 4])\n",
        "\n",
        "coeficients = simple_linear_regression_fit(x_train, y_train)\n",
        "\n",
        "a = coeficients[1]\n",
        "b = coeficients[0]\n",
        "\n",
        "print(\"The best-fit line is {1:8.6f} * x + {0:8.6f}.\".format(a, b))"
      ],
      "outputs": [
        {
          "output_type": "stream",
          "name": "stdout",
          "text": "Reshaping features array.\nReshaping observations array.\n"
        },
        {
          "output_type": "error",
          "ename": "NameError",
          "evalue": "name 'beta_1' is not defined",
          "traceback": [
            "\u001b[1;31m---------------------------------------------------------------------------\u001b[0m",
            "\u001b[1;31mNameError\u001b[0m                                 Traceback (most recent call last)",
            "Cell \u001b[1;32mIn[88], line 4\u001b[0m\n\u001b[0;32m      1\u001b[0m x_train \u001b[38;5;241m=\u001b[39m np\u001b[38;5;241m.\u001b[39marray([\u001b[38;5;241m1\u001b[39m ,\u001b[38;5;241m2\u001b[39m, \u001b[38;5;241m3\u001b[39m])\n\u001b[0;32m      2\u001b[0m y_train \u001b[38;5;241m=\u001b[39m np\u001b[38;5;241m.\u001b[39marray([\u001b[38;5;241m2\u001b[39m, \u001b[38;5;241m2\u001b[39m, \u001b[38;5;241m4\u001b[39m])\n\u001b[1;32m----> 4\u001b[0m coeficients \u001b[38;5;241m=\u001b[39m simple_linear_regression_fit(x_train, y_train)\n\u001b[0;32m      6\u001b[0m a \u001b[38;5;241m=\u001b[39m coeficients[\u001b[38;5;241m1\u001b[39m]\n\u001b[0;32m      7\u001b[0m b \u001b[38;5;241m=\u001b[39m coeficients[\u001b[38;5;241m0\u001b[39m]\n",
            "Cell \u001b[1;32mIn[87], line 32\u001b[0m, in \u001b[0;36msimple_linear_regression_fit\u001b[1;34m(x_train, y_train)\u001b[0m\n\u001b[0;32m     29\u001b[0m a \u001b[38;5;241m=\u001b[39m numerator\u001b[38;5;241m/\u001b[39mdenominator\n\u001b[0;32m     31\u001b[0m \u001b[38;5;66;03m#intercept b\u001b[39;00m\n\u001b[1;32m---> 32\u001b[0m b \u001b[38;5;241m=\u001b[39m y_bar \u001b[38;5;241m-\u001b[39m beta_1\u001b[38;5;241m*\u001b[39mx_bar\n\u001b[0;32m     34\u001b[0m \u001b[38;5;28;01mreturn\u001b[39;00m np\u001b[38;5;241m.\u001b[39marray([b,a])\n",
            "\u001b[1;31mNameError\u001b[0m: name 'beta_1' is not defined"
          ]
        }
      ],
      "execution_count": 88,
      "metadata": {},
      "id": "musical-galaxy"
    },
    {
      "cell_type": "code",
      "source": [
        "# %load solutions/best_fit_scatterplot.py\n",
        "fig_scat, ax_scat = plt.subplots(1,1, figsize=(10,6))\n",
        "\n",
        "# Plot best-fit line\n",
        "x_train = np.array([[1, 2, 3]]).T\n",
        "\n",
        "best_fit = b + a * x_train\n",
        "\n",
        "ax_scat.scatter(x_train, y_train, s=300, label='Training Data')\n",
        "ax_scat.plot(x_train, best_fit, ls='--', label='Best Fit Line')\n",
        "\n",
        "ax_scat.set_xlabel(r'$x_{train}$')\n",
        "ax_scat.set_ylabel(r'$y$');\n"
      ],
      "outputs": [
        {
          "output_type": "display_data",
          "data": {
            "image/png": "[encoded data removed]",
            "text/plain": "<Figure size 1000x600 with 1 Axes>"
          },
          "metadata": {}
        }
      ],
      "execution_count": 89,
      "metadata": {},
      "id": "coordinate-cookie"
    },
    {
      "cell_type": "markdown",
      "source": [
        "The values of `a` and `b` seem roughly reasonable.  They capture the positive correlation.  The line does appear to be trying to get as close as possible to all the points."
      ],
      "metadata": {},
      "id": "monetary-brisbane"
    },
    {
      "cell_type": "markdown",
      "source": [
        "## 4 - Building a model with `statsmodels` and `sklearn`\n",
        "\n",
        "Now that we can concretely fit the training data from scratch, let's learn two `python` packages to do it all for us:\n",
        "* [statsmodels](http://www.statsmodels.org/stable/regression.html) and \n",
        "* [scikit-learn (sklearn)](http://scikit-learn.org/stable/modules/generated/sklearn.linear_model.LinearRegression.html).\n",
        "\n",
        "Our goal  is to show how to implement simple linear regression with these packages.  For an important sanity check, we compare the $a$ and $b$ from `statsmodels` and `sklearn` to the ones that we found from above with our own implementation.\n",
        "\n",
        "For the purposes of this lab, `statsmodels` and `sklearn` do the same thing.  More generally though, `statsmodels` tends to be easier for inference \\[finding the values of the slope and intercept and dicussing uncertainty in those values\\], whereas `sklearn` has machine-learning algorithms and is better for prediction \\[guessing y values for a given x value\\]. (Note that both packages make the same guesses, it's just a question of which activity they provide more support for.\n",
        "\n",
        "**Note:** `statsmodels` and `sklearn` are different packages!  Unless we specify otherwise, you can use either one."
      ],
      "metadata": {},
      "id": "naked-bullet"
    },
    {
      "cell_type": "markdown",
      "source": [
        "below is the code for `statsmodels`.  `Statsmodels` does not by default include the column of ones in the $X$ matrix, so we include it manually with `sm.add_constant`."
      ],
      "metadata": {},
      "id": "asian-lemon"
    },
    {
      "cell_type": "code",
      "source": [
        "import statsmodels.api as sm"
      ],
      "outputs": [],
      "execution_count": 90,
      "metadata": {},
      "id": "breeding-silver"
    },
    {
      "cell_type": "code",
      "source": [
        "# create the X matrix by appending a column of ones to x_train\n",
        "X = sm.add_constant(x_train)\n",
        "\n",
        "# this is the same matrix as in our scratch problem!\n",
        "print(X)\n",
        "\n",
        "# build the OLS model (ordinary least squares) from the training data\n",
        "toyregr_sm = sm.OLS(y_train, X)\n",
        "\n",
        "# do the fit and save regression info (parameters, etc) in results_sm\n",
        "results_sm = toyregr_sm.fit()\n",
        "\n",
        "# pull the beta parameters out from results_sm\n",
        "beta0_sm = results_sm.params[0]\n",
        "beta1_sm = results_sm.params[1]\n",
        "\n",
        "print(f'The regression coef from statsmodels are: beta_0 = {beta0_sm:8.6f} and beta_1 = {beta1_sm:8.6f}')"
      ],
      "outputs": [
        {
          "output_type": "stream",
          "name": "stdout",
          "text": "[[1. 1.]\n [1. 2.]\n [1. 3.]]\nThe regression coef from statsmodels are: beta_0 = 0.666667 and beta_1 = 1.000000\n"
        }
      ],
      "execution_count": 91,
      "metadata": {},
      "id": "weekly-newton"
    },
    {
      "cell_type": "markdown",
      "source": [
        "Besides the beta parameters, `results_sm` contains a ton of other potentially useful information."
      ],
      "metadata": {},
      "id": "designed-kruger"
    },
    {
      "cell_type": "code",
      "source": [
        "import warnings\n",
        "warnings.filterwarnings('ignore')\n",
        "print(results_sm.summary())"
      ],
      "outputs": [
        {
          "output_type": "stream",
          "name": "stdout",
          "text": "                            OLS Regression Results                            \n==============================================================================\nDep. Variable:                      y   R-squared:                       0.750\nModel:                            OLS   Adj. R-squared:                  0.500\nMethod:                 Least Squares   F-statistic:                     3.000\nDate:                Fri, 08 Mar 2024   Prob (F-statistic):              0.333\nTime:                        16:36:43   Log-Likelihood:                -2.0007\nNo. Observations:                   3   AIC:                             8.001\nDf Residuals:                       1   BIC:                             6.199\nDf Model:                           1                                         \nCovariance Type:            nonrobust                                         \n==============================================================================\n                 coef    std err          t      P>|t|      [0.025      0.975]\n------------------------------------------------------------------------------\nconst          0.6667      1.247      0.535      0.687     -15.181      16.514\nx1             1.0000      0.577      1.732      0.333      -6.336       8.336\n==============================================================================\nOmnibus:                          nan   Durbin-Watson:                   3.000\nProb(Omnibus):                    nan   Jarque-Bera (JB):                0.531\nSkew:                          -0.707   Prob(JB):                        0.767\nKurtosis:                       1.500   Cond. No.                         6.79\n==============================================================================\n\nNotes:\n[1] Standard Errors assume that the covariance matrix of the errors is correctly specified.\n"
        }
      ],
      "execution_count": 92,
      "metadata": {},
      "id": "accepting-shower"
    },
    {
      "cell_type": "markdown",
      "source": [
        "Now let's turn our attention to the `sklearn` library."
      ],
      "metadata": {},
      "id": "coordinated-warrior"
    },
    {
      "cell_type": "code",
      "source": [
        "from sklearn import linear_model"
      ],
      "outputs": [],
      "execution_count": 93,
      "metadata": {},
      "id": "collective-static"
    },
    {
      "cell_type": "code",
      "source": [
        "# build the least squares model\n",
        "toyregr = linear_model.LinearRegression()\n",
        "\n",
        "# save regression info (parameters, etc) in results_skl\n",
        "results = toyregr.fit(x_train, y_train)\n",
        "\n",
        "# pull the beta parameters out from results_skl\n",
        "beta0_skl = toyregr.intercept_\n",
        "beta1_skl = toyregr.coef_[0]\n",
        "\n",
        "print(\"The regression coefficients from the sklearn package are: beta_0 = {0:8.6f} and beta_1 = {1:8.6f}\".format(beta0_skl, beta1_skl))"
      ],
      "outputs": [
        {
          "output_type": "stream",
          "name": "stdout",
          "text": "The regression coefficients from the sklearn package are: beta_0 = 0.666667 and beta_1 = 1.000000\n"
        }
      ],
      "execution_count": 94,
      "metadata": {},
      "id": "broadband-terrace"
    },
    {
      "cell_type": "markdown",
      "source": [
        "Same results! We can try a real problem now."
      ],
      "metadata": {},
      "id": "pregnant-dining"
    },
    {
      "cell_type": "markdown",
      "source": [
        "### The `scikit-learn` library and the shape of things"
      ],
      "metadata": {},
      "id": "fifteen-charles"
    },
    {
      "cell_type": "markdown",
      "source": [
        "Before diving into a \"real\" problem, let's discuss more of the details of `sklearn`.\n",
        "\n",
        "`Scikit-learn` is the main `Python` machine learning library. It consists of many learners which can learn models from data, as well as a lot of utility functions such as `train_test_split()`. \n",
        "\n",
        "Use the following to add the library into your code:\n",
        "\n",
        "```python\n",
        "import sklearn \n",
        "```\n",
        "\n",
        "In `scikit-learn`, an **estimator** is a Python object that implements the methods `fit(X, y)` and `predict(T)`\n",
        "\n",
        "Let's see the structure of `scikit-learn` needed to make these fits. `fit()` always takes two arguments:\n",
        "```python\n",
        "estimator.fit(Xtrain, ytrain)\n",
        "```\n",
        "We will consider one estimator in this lab: `LinearRegression`.\n",
        "\n",
        "It is very important to understand that `Xtrain` must be in the form of a **2x2 array** with each row corresponding to one sample, and each column corresponding to the feature values for that sample.\n",
        "\n",
        "`ytrain` on the other hand is a simple array of responses.  These are continuous for regression problems."
      ],
      "metadata": {},
      "id": "wicked-allen"
    },
    {
      "cell_type": "code",
      "source": [
        "#we load the dataset (be sure that this file is in the same folder with the j. notebook)\n",
        "df = pd.read_csv('Salary_dataset.csv')"
      ],
      "outputs": [],
      "execution_count": 95,
      "metadata": {},
      "id": "stuck-leone"
    },
    {
      "cell_type": "code",
      "source": [
        "print(df)"
      ],
      "outputs": [
        {
          "output_type": "stream",
          "name": "stdout",
          "text": "    Unnamed: 0  YearsExperience    Salary\n0            0              1.2   39344.0\n1            1              1.4   46206.0\n2            2              1.6   37732.0\n3            3              2.1   43526.0\n4            4              2.3   39892.0\n5            5              3.0   56643.0\n6            6              3.1   60151.0\n7            7              3.3   54446.0\n8            8              3.3   64446.0\n9            9              3.8   57190.0\n10          10              4.0   63219.0\n11          11              4.1   55795.0\n12          12              4.1   56958.0\n13          13              4.2   57082.0\n14          14              4.6   61112.0\n15          15              5.0   67939.0\n16          16              5.2   66030.0\n17          17              5.4   83089.0\n18          18              6.0   81364.0\n19          19              6.1   93941.0\n20          20              6.9   91739.0\n21          21              7.2   98274.0\n22          22              8.0  101303.0\n23          23              8.3  113813.0\n24          24              8.8  109432.0\n25          25              9.1  105583.0\n26          26              9.6  116970.0\n27          27              9.7  112636.0\n28          28             10.4  122392.0\n29          29             10.6  121873.0\n"
        }
      ],
      "execution_count": 97,
      "metadata": {},
      "id": "czech-island"
    },
    {
      "cell_type": "code",
      "source": [
        "from sklearn.linear_model import LinearRegression\n",
        "from sklearn.model_selection import train_test_split\n",
        "\n",
        "print(df.head())\n",
        "X = np.array(df['YearsExperience'])\n",
        "y = np.array(df['Salary'])\n",
        "\n",
        "X_train, X_test, y_train, y_test = train_test_split(X, y, test_size=0.25, random_state=0)"
      ],
      "outputs": [
        {
          "output_type": "stream",
          "name": "stdout",
          "text": "   Unnamed: 0  YearsExperience   Salary\n0           0              1.2  39344.0\n1           1              1.4  46206.0\n2           2              1.6  37732.0\n3           3              2.1  43526.0\n4           4              2.3  39892.0\n"
        }
      ],
      "execution_count": 98,
      "metadata": {},
      "id": "closing-prison"
    },
    {
      "cell_type": "code",
      "source": [
        "X_train"
      ],
      "outputs": [
        {
          "output_type": "execute_result",
          "execution_count": 99,
          "data": {
            "text/plain": "array([ 5.4,  8. ,  3. ,  5.2,  3.3,  4.6,  8.3,  6.9,  1.4, 10.6,  3.1,\n        2.3,  6. ,  6.1,  3.8,  3.3,  9.1,  2.1,  1.2,  7.2,  5. ,  4.1])"
          },
          "metadata": {}
        }
      ],
      "execution_count": 99,
      "metadata": {},
      "id": "greater-toolbox"
    },
    {
      "cell_type": "code",
      "source": [
        "y_train"
      ],
      "outputs": [
        {
          "output_type": "execute_result",
          "execution_count": 100,
          "data": {
            "text/plain": "array([ 83089., 101303.,  56643.,  66030.,  64446.,  61112., 113813.,\n        91739.,  46206., 121873.,  60151.,  39892.,  81364.,  93941.,\n        57190.,  54446., 105583.,  43526.,  39344.,  98274.,  67939.,\n        56958.])"
          },
          "metadata": {}
        }
      ],
      "execution_count": 100,
      "metadata": {},
      "id": "improving-nickname"
    },
    {
      "cell_type": "code",
      "source": [
        "# rember to reshape the X list in order to have a two dimensional array. \n",
        "# Since we have only one feature the reshape looks like below: \n",
        "X_train = X_train.reshape(-1, 1)\n",
        "X_test = X_test.reshape(-1, 1)\n",
        "\n",
        "# we perform the regression\n",
        "lr = LinearRegression().fit(X_train, y_train)\n",
        "\n",
        "\n",
        "print(f\"Linear Regression-Training set score: {lr.score(X_train, y_train):.2f}\")\n",
        "print(f\"Linear Regression-Test set score: {lr.score(X_test, y_test):.2f}\")"
      ],
      "outputs": [
        {
          "output_type": "stream",
          "name": "stdout",
          "text": "Linear Regression-Training set score: 0.94\nLinear Regression-Test set score: 0.98\n"
        }
      ],
      "execution_count": 101,
      "metadata": {},
      "id": "extra-alaska"
    },
    {
      "cell_type": "markdown",
      "source": [
        "To fnd the coeficients from the formula $ax + b = y$ we have the following:"
      ],
      "metadata": {},
      "id": "lesbian-tuning"
    },
    {
      "cell_type": "code",
      "source": [
        "a = lr.coef_[0] # we ahve one feature with index 0\n",
        "\n",
        "b = lr.intercept_ # a scalar\n",
        " \n",
        "print(a, \"* x +\", b, \"= y\")"
      ],
      "outputs": [
        {
          "output_type": "stream",
          "name": "stdout",
          "text": "9379.710491946016 * x + 26049.720267542645 = y\n"
        }
      ],
      "execution_count": 102,
      "metadata": {},
      "id": "british-sherman"
    },
    {
      "cell_type": "markdown",
      "source": [
        "Now that we have the model let's make a prediction:"
      ],
      "metadata": {},
      "id": "declared-powder"
    },
    {
      "cell_type": "code",
      "source": [
        "lr.predict([[20]])"
      ],
      "outputs": [
        {
          "output_type": "execute_result",
          "execution_count": 103,
          "data": {
            "text/plain": "array([213643.93010646])"
          },
          "metadata": {}
        }
      ],
      "execution_count": 103,
      "metadata": {},
      "id": "professional-passport"
    },
    {
      "cell_type": "code",
      "source": [
        "a * 20 + b"
      ],
      "outputs": [
        {
          "output_type": "execute_result",
          "execution_count": 104,
          "data": {
            "text/plain": "213643.93010646297"
          },
          "metadata": {}
        }
      ],
      "execution_count": 104,
      "metadata": {},
      "id": "equivalent-remove"
    },
    {
      "cell_type": "markdown",
      "source": [
        "In other words our model predicted that we get after 20 years a salary of 213643.9. "
      ],
      "metadata": {},
      "id": "surprising-track"
    },
    {
      "cell_type": "code",
      "source": [
        "pred = lr.predict([[20]])\n",
        "fig_scat, ax_scat = plt.subplots(1,1, figsize=(10,6))\n",
        "\n",
        "\n",
        "x = X.T\n",
        "\n",
        "best_fit = b + a * (np.append(x, [20]))\n",
        "\n",
        "ax_scat.scatter(x, y, s=300, label='Training Data')\n",
        "ax_scat.plot(np.append(x,[20]), best_fit, ls='--', label='Best Fit Line')\n",
        "\n",
        "ax_scat.plot([20],pred, \"ys\", label=\"LinearRegression\")\n",
        "ax_scat.set_xlabel(r'$x$')\n",
        "ax_scat.set_ylabel(r'$y$');\n"
      ],
      "outputs": [
        {
          "output_type": "display_data",
          "data": {
            "image/png": "[encoded data removed]",
            "text/plain": "<Figure size 720x432 with 1 Axes>"
          },
          "metadata": {
            "needs_background": "light"
          }
        }
      ],
      "execution_count": 209,
      "metadata": {},
      "id": "interesting-chess"
    },
    {
      "cell_type": "markdown",
      "source": [
        "***Exercise 2***\n",
        "\n",
        "Download from https://www.kaggle.com/ the regression dataset: Student Study Hours. Create a model and make 3 predictions. Make some nice graphics to depict the model (training set, test set, predictions). "
      ],
      "metadata": {},
      "id": "numerous-spray"
    },
    {
      "cell_type": "code",
      "source": [
        "file_path = \"score.csv\"\n",
        "df = pd.read_csv(file_path)\n",
        "\n",
        "# Split the dataset into \"Hours\" and \"Scores\" \n",
        "X = df[['Hours']].values\n",
        "y = df['Scores'].values\n",
        "\n",
        "# Split the data into \"training\" and \"testing\" sets\n",
        "X_train, X_test, y_train, y_test = train_test_split(X, y, test_size=0.2, random_state=42)\n",
        "model = LinearRegression()\n",
        "model.fit(X_train, y_train)\n",
        "\n",
        "# Make predictions on the test set\n",
        "y_pred = model.predict(X_test)\n",
        "\n",
        "plt.scatter(X_train, y_train, color='purple', label='Training-Set')\n",
        "plt.scatter(X_test, y_test, color='red', label='Test-Set')\n",
        "plt.scatter(X_test, y_pred, color='Green', label='Predictions')\n",
        "plt.plot(X_test, y_pred, color='green', linewidth=0.7)\n",
        "plt.xlabel('Hours of Study')\n",
        "plt.ylabel('Scores')\n",
        "plt.title('Regression Model: Student Study Hours')\n",
        "plt.legend()\n",
        "plt.show()\n"
      ],
      "outputs": [
        {
          "output_type": "display_data",
          "data": {
            "image/png": "[encoded data removed]",
            "text/plain": "<Figure size 640x480 with 1 Axes>"
          },
          "metadata": {}
        }
      ],
      "execution_count": 123,
      "metadata": {},
      "id": "centered-python"
    },
    {
      "cell_type": "markdown",
      "source": [
        "# Section 3. Regularization\n",
        "\n",
        "- restricting a model to avoid overfitting by shrinking the coefficient estimates to zero. \n",
        "\n",
        "To avoid overfitting we control the model’s complexity by adding a penalty to the model’s loss function:\n",
        "\n",
        "$$\\text{ Regularization} = \\text{Loss Function} + \\text{Penalty} $$\n",
        "\n",
        "There are three commonly used regularization techniques to control the complexity of machine learning models, as follows:\n",
        "\n",
        "* L2 regularization\n",
        "* L1 regularization\n",
        "* Elastic Net\n",
        "\n",
        "\n",
        "## L2 regularisation\n",
        "\n",
        "A *ridge* regression -- a regularization term is added to the cost function of the linear regression, which keeps the magnitude of the model’s weights (coefficients) as small as possible. The L2 regularization technique tries to keep the model’s weights close to zero, but not zero, which means each feature should have a low impact on the output while the model’s accuracy should be as high as possible.\n",
        " \n",
        " $$ \\text{Ridge Regression Cost Function} = \\text{Loss Function} + \\frac{1}{2}\\lambda \\sum_{j=1}^m \\omega_j^2$$\n",
        "\n",
        "Where $\\lambda$  controls the strength of regularization, and  $\\omega$ are the model’s weights (coefficients).\n",
        "\n",
        "By increasing $\\lambda$, the model becomes flattered and underfit. On the other hand, by decreasing $\\lambda$, the model becomes more overfit, and with $\\lambda = 0$, the regularization term will be eliminated."
      ],
      "metadata": {},
      "id": "printable-breast"
    },
    {
      "cell_type": "code",
      "source": [
        "# rember to reshape the X list in order to have a two dimensional array. \n",
        "# Since we have only one feature the reshape looks like below: \n",
        "X_train = X_train.reshape(-1, 1)\n",
        "X_test = X_test.reshape(-1, 1)\n",
        "\n",
        "from sklearn.linear_model import Ridge\n",
        "\n",
        "ridge = Ridge(alpha=0.7).fit(X_train, y_train)\n",
        "\n",
        "print(f\"Ridge Regression-Training set score: {ridge.score(X_train, y_train):.2f}\")\n",
        "print(f\"Ridge Regression-Test set score: {ridge.score(X_test, y_test):.2f}\")"
      ],
      "outputs": [
        {
          "output_type": "stream",
          "name": "stdout",
          "text": "Ridge Regression-Training set score: 0.95\nRidge Regression-Test set score: 0.97\n"
        }
      ],
      "execution_count": 124,
      "metadata": {},
      "id": "acknowledged-agenda"
    },
    {
      "cell_type": "markdown",
      "source": [
        "## L1 Regularization\n",
        "\n",
        "Least Absolute Shrinkage and Selection Operator (lasso) regression is an alternative to ridge for regularizing linear regression. Lasso regression also adds a penalty term to the cost function, but slightly different, called $L1$ regularization. $L1$ regularization makes some coefficients zero, meaning the model will ignore those features. Ignoring the least important features helps emphasize the model’s essential features.\n",
        "\n",
        "$$ \\text{Lasso Regrestion Cost Function} = \\text{Loss Function} + r \\lambda \\sum_{j=1}^m |wj|$$\n",
        "\n",
        "Where $\\lambda$  controls the strength of regularization, and $\\omega$ are the model’s weights (coefficients).\n",
        "\n",
        "Lasso regression automatically performs feature selection by eliminating the least important features."
      ],
      "metadata": {},
      "id": "indie-copper"
    },
    {
      "cell_type": "code",
      "source": [
        "# rember to reshape the X list in order to have a two dimensional array. \n",
        "# Since we have only one feature the reshape looks like below: \n",
        "X_train = X_train.reshape(-1, 1)\n",
        "X_test = X_test.reshape(-1, 1)\n",
        "\n",
        "from sklearn.linear_model import Lasso\n",
        "\n",
        "lasso = Lasso(alpha=1.0).fit(X_train, y_train)\n",
        "\n",
        "print(f\"Lasso Regression-Training set score: {lasso.score(X_train, y_train):.2f}\")\n",
        "print(f\"Lasso Regression-Test set score: {lasso.score(X_test, y_test):.2f}\")"
      ],
      "outputs": [
        {
          "output_type": "stream",
          "name": "stdout",
          "text": "Lasso Regression-Training set score: 0.95\nLasso Regression-Test set score: 0.97\n"
        }
      ],
      "execution_count": 125,
      "metadata": {},
      "id": "behavioral-thailand"
    },
    {
      "cell_type": "markdown",
      "source": [
        "## Elastic Net\n",
        "The Elastic Net is a regularized regression technique combining ridge and lasso’s regularization terms. The \n",
        " parameter controls the combination ratio. When \n",
        ", the L2 term will be eliminated, and when \n",
        ", the L1 term will be removed.\n",
        "\n",
        "$$\\text{Elastic Net Cost Function} = \\text{Loss Function} + r \\lambda \\sum_{j=1}^m |wj|+ \\dfrac{(1-r)}{2} \\lambda\\sum_{j=1}^m w_j^2$$\n",
        "\n",
        "Although combining the penalties of lasso and ridge usually works better than only using one of the regularization techniques, adjusting two parameters, \n",
        " and \n",
        ", is a little tricky."
      ],
      "metadata": {},
      "id": "extraordinary-sauce"
    },
    {
      "cell_type": "code",
      "source": [
        "# rember to reshape the X list in order to have a two dimensional array. \n",
        "# Since we have only one feature the reshape looks like below: \n",
        "X_train = X_train.reshape(-1, 1)\n",
        "X_test = X_test.reshape(-1, 1)\n",
        "\n",
        "from sklearn.linear_model import ElasticNet\n",
        "\n",
        "elastic_net = ElasticNet(alpha=0.01, l1_ratio=0.01).fit(X_train, y_train)\n",
        "\n",
        "print(f\"Elastic Net-Training set score: {elastic_net.score(X_train, y_train):.2f}\")\n",
        "print(f\"Elastic Net-Test set score: {elastic_net.score(X_test, y_test):.2f}\")"
      ],
      "outputs": [
        {
          "output_type": "stream",
          "name": "stdout",
          "text": "Elastic Net-Training set score: 0.94\nElastic Net-Test set score: 0.98\n"
        }
      ],
      "execution_count": 215,
      "metadata": {},
      "id": "informative-reputation"
    },
    {
      "cell_type": "markdown",
      "source": [
        "***Exercise 3***\n",
        "\n",
        "For your build previous model perform all three regularizations presented here.  "
      ],
      "metadata": {},
      "id": "diverse-studio"
    },
    {
      "cell_type": "code",
      "source": [
        "file_path = \"score.csv\"\n",
        "df = pd.read_csv(file_path)\n",
        "\n",
        "X = df[['Hours']].values\n",
        "y = df['Scores'].values\n",
        "X_train, X_test, y_train, y_test = train_test_split(X, y, test_size=0.2, random_state=42)\n",
        "\n",
        "# Standardize the features\n",
        "scaler = StandardScaler()\n",
        "X_train_scaled = scaler.fit_transform(X_train)\n",
        "X_test_scaled = scaler.transform(X_test)\n",
        "\n",
        "# Build a linear regression model\n",
        "model_lr = LinearRegression()\n",
        "model_lr.fit(X_train_scaled, y_train)\n",
        "\n",
        "# Build Lasso regression model(L1)\n",
        "model_lasso = Lasso(alpha=0.1)  # You can adjust the alpha (penalty strength)\n",
        "model_lasso.fit(X_train_scaled, y_train)\n",
        "\n",
        "# Build Ridge regression model(l2)\n",
        "model_ridge = Ridge(alpha=0.7) \n",
        "model_ridge.fit(X_train_scaled, y_train)\n",
        "\n",
        "# Build Elastic Net regression model\n",
        "model_elasticnet = ElasticNet(alpha=0.1, l1_ratio=0.5)  # You can adjust alpha and l1_ratio\n",
        "model_elasticnet.fit(X_train_scaled, y_train)\n",
        "\n",
        "# Make predictions\n",
        "y_pred_lasso = model_lasso.predict(X_test_scaled)\n",
        "y_pred_ridge = model_ridge.predict(X_test_scaled)\n",
        "y_pred_elasticnet = model_elasticnet.predict(X_test_scaled)\n",
        "\n",
        "# Plot the results\n",
        "plt.scatter(X_test, y_test, color='green', label='Actual')\n",
        "plt.scatter(X_test, y_pred_lasso, color='red', label='Lasso-Regression')\n",
        "plt.scatter(X_test, y_pred_ridge, color='purple', label='Ridge-Regression')\n",
        "plt.scatter(X_test, y_pred_elasticnet, color='orange', label='Elastic-Net-Regression')\n",
        "plt.xlabel('Hours of Study')\n",
        "plt.ylabel('Scores')\n",
        "plt.title('Regression Models with Regularization')\n",
        "plt.legend()\n",
        "plt.show()\n"
      ],
      "outputs": [
        {
          "output_type": "display_data",
          "data": {
            "image/png": "[encoded data removed]",
            "text/plain": "<Figure size 640x480 with 1 Axes>"
          },
          "metadata": {}
        }
      ],
      "execution_count": 133,
      "metadata": {},
      "id": "loved-light"
    },
    {
      "cell_type": "code",
      "source": [],
      "outputs": [],
      "execution_count": null,
      "metadata": {},
      "id": "756734cb"
    }
  ],
  "metadata": {
    "kernel_info": {
      "name": "python"
    },
    "kernelspec": {
      "display_name": "Python 3 (ipykernel)",
      "language": "python",
      "name": "python3"
    },
    "language_info": {
      "codemirror_mode": {
        "name": "ipython",
        "version": 3
      },
      "file_extension": ".py",
      "mimetype": "text/x-python",
      "name": "python",
      "nbconvert_exporter": "python",
      "pygments_lexer": "ipython3",
      "version": "3.11.5"
    },
    "nteract": {
      "version": "nteract-front-end@1.0.0"
    }
  },
  "nbformat": 4,
  "nbformat_minor": 5
}